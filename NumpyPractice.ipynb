{
  "nbformat": 4,
  "nbformat_minor": 0,
  "metadata": {
    "colab": {
      "name": "NumpyPractice.ipynb",
      "provenance": [],
      "authorship_tag": "ABX9TyPCjViSfyP0PkHaTdbZleM2"
    },
    "kernelspec": {
      "name": "python3",
      "display_name": "Python 3"
    },
    "language_info": {
      "name": "python"
    }
  },
  "cells": [
    {
      "cell_type": "markdown",
      "source": [
        "# NumPy :\n",
        "\n",
        "It stands for Numerical Python.\n",
        "\n",
        "Why do we use NumPy over normal list ?\n",
        "\n",
        "1. Faster operations.\n",
        "\n",
        "2. It provides several mathematical operations.\n",
        "\n"
      ],
      "metadata": {
        "id": "ZwTHiDEGAgRX"
      }
    },
    {
      "cell_type": "code",
      "source": [
        "#importing numpy library:\n",
        "import numpy as np"
      ],
      "metadata": {
        "id": "kTkYIhD5BFES"
      },
      "execution_count": 1,
      "outputs": []
    },
    {
      "cell_type": "markdown",
      "source": [
        "Time taken by numpy vs lists:"
      ],
      "metadata": {
        "id": "Qm40FiPmBY6I"
      }
    },
    {
      "cell_type": "code",
      "source": [
        "from time import process_time"
      ],
      "metadata": {
        "id": "BbLyBzp4BedD"
      },
      "execution_count": 3,
      "outputs": []
    },
    {
      "cell_type": "code",
      "execution_count": 7,
      "metadata": {
        "colab": {
          "base_uri": "https://localhost:8080/"
        },
        "id": "-fWpXX1ZAcay",
        "outputId": "7cbd37fd-dbba-40a4-c2e4-14778be6c735"
      },
      "outputs": [
        {
          "output_type": "stream",
          "name": "stdout",
          "text": [
            "0.0013481460000006606\n"
          ]
        }
      ],
      "source": [
        "#time taken by list:\n",
        "python_list = [i for i in range (10000)]\n",
        "start_time = process_time()\n",
        "python_list = [i+5 for i in python_list]\n",
        "end_time = process_time()\n",
        "print(end_time - start_time)"
      ]
    },
    {
      "cell_type": "code",
      "source": [
        "#time taken by numpy array:\n",
        "np_array = np.array([i for i in range (10000)])\n",
        "start_time = process_time()\n",
        "np_array += 5\n",
        "end_time = process_time()\n",
        "print(end_time - start_time)"
      ],
      "metadata": {
        "colab": {
          "base_uri": "https://localhost:8080/"
        },
        "id": "ukfuQ75BDHT7",
        "outputId": "362afde8-5ed9-4c4b-8f1d-a25d7f4794f0"
      },
      "execution_count": 15,
      "outputs": [
        {
          "output_type": "stream",
          "name": "stdout",
          "text": [
            "0.00013764000000016097\n"
          ]
        }
      ]
    },
    {
      "cell_type": "code",
      "source": [
        "#list:\n",
        "list = [1,2,34,45]\n",
        "type(list)"
      ],
      "metadata": {
        "colab": {
          "base_uri": "https://localhost:8080/"
        },
        "id": "N7OL8RtQEZLY",
        "outputId": "f1650e5b-1bb6-4d10-c05d-8fe70c8723e2"
      },
      "execution_count": 17,
      "outputs": [
        {
          "output_type": "execute_result",
          "data": {
            "text/plain": [
              "list"
            ]
          },
          "metadata": {},
          "execution_count": 17
        }
      ]
    },
    {
      "cell_type": "code",
      "source": [
        "np_array = np.array([1,2,34,45])\n",
        "type(np_array)"
      ],
      "metadata": {
        "colab": {
          "base_uri": "https://localhost:8080/"
        },
        "id": "vAps9J_OEmeV",
        "outputId": "97c17ad3-da58-42ee-bf92-ae1e107ead47"
      },
      "execution_count": 19,
      "outputs": [
        {
          "output_type": "execute_result",
          "data": {
            "text/plain": [
              "numpy.ndarray"
            ]
          },
          "metadata": {},
          "execution_count": 19
        }
      ]
    },
    {
      "cell_type": "code",
      "source": [
        "#creating a 1-D array:\n",
        "a = np.array([1,2,3,4])\n",
        "print(a)\n",
        "type(a)"
      ],
      "metadata": {
        "colab": {
          "base_uri": "https://localhost:8080/"
        },
        "id": "5H6QmgHcE4ku",
        "outputId": "a2f2b031-bf40-43ee-8849-19fae592e1a0"
      },
      "execution_count": 22,
      "outputs": [
        {
          "output_type": "stream",
          "name": "stdout",
          "text": [
            "[1 2 3 4]\n"
          ]
        },
        {
          "output_type": "execute_result",
          "data": {
            "text/plain": [
              "numpy.ndarray"
            ]
          },
          "metadata": {},
          "execution_count": 22
        }
      ]
    },
    {
      "cell_type": "code",
      "source": [
        "#creating a 2-D array:\n",
        "a = np.array(([1,2,3,4,5],[2,3,4,5,6]))\n",
        "print(a)"
      ],
      "metadata": {
        "colab": {
          "base_uri": "https://localhost:8080/"
        },
        "id": "OUsRkFbPFWpY",
        "outputId": "0cd5a12d-c129-4742-aea3-598c282a218d"
      },
      "execution_count": 23,
      "outputs": [
        {
          "output_type": "stream",
          "name": "stdout",
          "text": [
            "[[1 2 3 4 5]\n",
            " [2 3 4 5 6]]\n"
          ]
        }
      ]
    },
    {
      "cell_type": "code",
      "source": [
        "b = np.ones((1,2,3))\n",
        "print(b)\n",
        "b.ndim"
      ],
      "metadata": {
        "colab": {
          "base_uri": "https://localhost:8080/"
        },
        "id": "gxtoKmUTFiZ2",
        "outputId": "4d0de47c-67b6-49cd-c6c4-c6bbfc7cdede"
      },
      "execution_count": 33,
      "outputs": [
        {
          "output_type": "stream",
          "name": "stdout",
          "text": [
            "[[[1. 1. 1.]\n",
            "  [1. 1. 1.]]]\n"
          ]
        },
        {
          "output_type": "execute_result",
          "data": {
            "text/plain": [
              "3"
            ]
          },
          "metadata": {},
          "execution_count": 33
        }
      ]
    },
    {
      "cell_type": "code",
      "source": [
        "#initial placeholders in numpy array:\n",
        "#creating an array of zeros of given shape:\n",
        "x = np.zeros((4,5,6))\n",
        "print(x)\n",
        "print(type(x))\n",
        "x.ndim"
      ],
      "metadata": {
        "colab": {
          "base_uri": "https://localhost:8080/"
        },
        "id": "ofR8Z2PfGK37",
        "outputId": "1edcac56-64bf-4351-8f68-42e68b47f0ed"
      },
      "execution_count": 35,
      "outputs": [
        {
          "output_type": "stream",
          "name": "stdout",
          "text": [
            "[[[0. 0. 0. 0. 0. 0.]\n",
            "  [0. 0. 0. 0. 0. 0.]\n",
            "  [0. 0. 0. 0. 0. 0.]\n",
            "  [0. 0. 0. 0. 0. 0.]\n",
            "  [0. 0. 0. 0. 0. 0.]]\n",
            "\n",
            " [[0. 0. 0. 0. 0. 0.]\n",
            "  [0. 0. 0. 0. 0. 0.]\n",
            "  [0. 0. 0. 0. 0. 0.]\n",
            "  [0. 0. 0. 0. 0. 0.]\n",
            "  [0. 0. 0. 0. 0. 0.]]\n",
            "\n",
            " [[0. 0. 0. 0. 0. 0.]\n",
            "  [0. 0. 0. 0. 0. 0.]\n",
            "  [0. 0. 0. 0. 0. 0.]\n",
            "  [0. 0. 0. 0. 0. 0.]\n",
            "  [0. 0. 0. 0. 0. 0.]]\n",
            "\n",
            " [[0. 0. 0. 0. 0. 0.]\n",
            "  [0. 0. 0. 0. 0. 0.]\n",
            "  [0. 0. 0. 0. 0. 0.]\n",
            "  [0. 0. 0. 0. 0. 0.]\n",
            "  [0. 0. 0. 0. 0. 0.]]]\n",
            "<class 'numpy.ndarray'>\n"
          ]
        },
        {
          "output_type": "execute_result",
          "data": {
            "text/plain": [
              "3"
            ]
          },
          "metadata": {},
          "execution_count": 35
        }
      ]
    },
    {
      "cell_type": "code",
      "source": [
        "x = np.ones((10,9))\n",
        "print(x)"
      ],
      "metadata": {
        "colab": {
          "base_uri": "https://localhost:8080/"
        },
        "id": "p2lGSpo8Gvdb",
        "outputId": "0c2ea492-69db-4c56-ef19-92f3791a1567"
      },
      "execution_count": 38,
      "outputs": [
        {
          "output_type": "stream",
          "name": "stdout",
          "text": [
            "[[1. 1. 1. 1. 1. 1. 1. 1. 1.]\n",
            " [1. 1. 1. 1. 1. 1. 1. 1. 1.]\n",
            " [1. 1. 1. 1. 1. 1. 1. 1. 1.]\n",
            " [1. 1. 1. 1. 1. 1. 1. 1. 1.]\n",
            " [1. 1. 1. 1. 1. 1. 1. 1. 1.]\n",
            " [1. 1. 1. 1. 1. 1. 1. 1. 1.]\n",
            " [1. 1. 1. 1. 1. 1. 1. 1. 1.]\n",
            " [1. 1. 1. 1. 1. 1. 1. 1. 1.]\n",
            " [1. 1. 1. 1. 1. 1. 1. 1. 1.]\n",
            " [1. 1. 1. 1. 1. 1. 1. 1. 1.]]\n"
          ]
        }
      ]
    },
    {
      "cell_type": "code",
      "source": [
        "#creating an identity matrix:\n",
        "a = np.eye(5)\n",
        "print(a)"
      ],
      "metadata": {
        "colab": {
          "base_uri": "https://localhost:8080/"
        },
        "id": "FHIp_JthHGdn",
        "outputId": "6d708af9-b9e3-4b45-9eda-24ca234d24d3"
      },
      "execution_count": 40,
      "outputs": [
        {
          "output_type": "stream",
          "name": "stdout",
          "text": [
            "[[1. 0. 0. 0. 0.]\n",
            " [0. 1. 0. 0. 0.]\n",
            " [0. 0. 1. 0. 0.]\n",
            " [0. 0. 0. 1. 0.]\n",
            " [0. 0. 0. 0. 1.]]\n"
          ]
        }
      ]
    },
    {
      "cell_type": "code",
      "source": [
        "#creating a numpy array of particular value:\n",
        "a = np.full((4,6),8)\n",
        "print(a)"
      ],
      "metadata": {
        "colab": {
          "base_uri": "https://localhost:8080/"
        },
        "id": "aK0eFOf0HXEo",
        "outputId": "172ef4ef-2d98-4a01-c43f-345ae721208b"
      },
      "execution_count": 43,
      "outputs": [
        {
          "output_type": "stream",
          "name": "stdout",
          "text": [
            "[[8 8 8 8 8 8]\n",
            " [8 8 8 8 8 8]\n",
            " [8 8 8 8 8 8]\n",
            " [8 8 8 8 8 8]]\n"
          ]
        }
      ]
    },
    {
      "cell_type": "code",
      "source": [
        "#creating a numpy array of random numbers:\n",
        "a = np.random.random((4,5))\n",
        "print(a)"
      ],
      "metadata": {
        "colab": {
          "base_uri": "https://localhost:8080/"
        },
        "id": "jMPTHiwWH1Cu",
        "outputId": "d948225a-50a3-47a8-f797-794df7c87c6e"
      },
      "execution_count": 44,
      "outputs": [
        {
          "output_type": "stream",
          "name": "stdout",
          "text": [
            "[[0.56137777 0.17999507 0.93869462 0.34175343 0.80984887]\n",
            " [0.92236027 0.32196732 0.07731974 0.44041346 0.07110537]\n",
            " [0.54823491 0.04599264 0.60016749 0.53357382 0.49206997]\n",
            " [0.60577865 0.00552333 0.46841997 0.75909788 0.09389288]]\n"
          ]
        }
      ]
    },
    {
      "cell_type": "code",
      "source": [
        "#creating a numpy array of some random integers:\n",
        "c = np.random.randint(10,50,(4,5))\n",
        "print(c)"
      ],
      "metadata": {
        "colab": {
          "base_uri": "https://localhost:8080/"
        },
        "id": "BgbnecmuIJW1",
        "outputId": "658e9373-5cf6-4b44-c0ce-4bf778eb913f"
      },
      "execution_count": 45,
      "outputs": [
        {
          "output_type": "stream",
          "name": "stdout",
          "text": [
            "[[25 27 22 44 34]\n",
            " [18 12 11 34 44]\n",
            " [48 41 34 48 11]\n",
            " [42 17 14 17 42]]\n"
          ]
        }
      ]
    },
    {
      "cell_type": "code",
      "source": [
        "#array of evenly spaced values:\n",
        "a = np.linspace(15, 10, 4)\n",
        "print(a) "
      ],
      "metadata": {
        "colab": {
          "base_uri": "https://localhost:8080/"
        },
        "id": "YRbq9dEcIQUQ",
        "outputId": "dc782300-2006-430a-9ac8-4797cfc04ab0"
      },
      "execution_count": 48,
      "outputs": [
        {
          "output_type": "stream",
          "name": "stdout",
          "text": [
            "[15.         13.33333333 11.66666667 10.        ]\n"
          ]
        }
      ]
    },
    {
      "cell_type": "code",
      "source": [
        "#creating an array of numbers at a particular step:\n",
        "a = np.arange(10,20,1)\n",
        "print(a)"
      ],
      "metadata": {
        "colab": {
          "base_uri": "https://localhost:8080/"
        },
        "id": "xjGmOXpUInmW",
        "outputId": "543519e8-9cdc-4eae-967e-ba2475649cc4"
      },
      "execution_count": 52,
      "outputs": [
        {
          "output_type": "stream",
          "name": "stdout",
          "text": [
            "[10 11 12 13 14 15 16 17 18 19]\n"
          ]
        }
      ]
    },
    {
      "cell_type": "code",
      "source": [
        "p = np.arange(10,30,6)\n",
        "print(p)"
      ],
      "metadata": {
        "colab": {
          "base_uri": "https://localhost:8080/"
        },
        "id": "yoFgo23fIkNK",
        "outputId": "6ff3b90d-b9e9-4717-aa76-795c991eee71"
      },
      "execution_count": 53,
      "outputs": [
        {
          "output_type": "stream",
          "name": "stdout",
          "text": [
            "[10 16 22 28]\n"
          ]
        }
      ]
    },
    {
      "cell_type": "code",
      "source": [
        "#converting a list into an numpy array:\n",
        "list2 = [1,2,3,4,5,6,7]\n",
        "array = np.asarray(list2)\n",
        "print(array)"
      ],
      "metadata": {
        "colab": {
          "base_uri": "https://localhost:8080/"
        },
        "id": "EZQ6iH_jJTpm",
        "outputId": "89ee2802-5123-496b-927a-4b551231bff1"
      },
      "execution_count": 55,
      "outputs": [
        {
          "output_type": "stream",
          "name": "stdout",
          "text": [
            "[1 2 3 4 5 6 7]\n"
          ]
        }
      ]
    },
    {
      "cell_type": "code",
      "source": [
        "type(array)"
      ],
      "metadata": {
        "colab": {
          "base_uri": "https://localhost:8080/"
        },
        "id": "U8rs3P5hJe-_",
        "outputId": "a23109ce-5f7e-490a-e5ea-158c685d488c"
      },
      "execution_count": 56,
      "outputs": [
        {
          "output_type": "execute_result",
          "data": {
            "text/plain": [
              "numpy.ndarray"
            ]
          },
          "metadata": {},
          "execution_count": 56
        }
      ]
    },
    {
      "cell_type": "code",
      "source": [
        "#analysing a numpy array:\n",
        "s = np.random.randint(19,35,(5,6))\n",
        "print(s)"
      ],
      "metadata": {
        "colab": {
          "base_uri": "https://localhost:8080/"
        },
        "id": "62z-WZGAJjE3",
        "outputId": "a94681c5-98eb-4c96-c42b-ac71461fbde1"
      },
      "execution_count": 58,
      "outputs": [
        {
          "output_type": "stream",
          "name": "stdout",
          "text": [
            "[[27 24 20 32 29 30]\n",
            " [34 22 29 26 31 28]\n",
            " [29 33 28 28 28 31]\n",
            " [23 25 26 24 23 34]\n",
            " [20 31 27 19 27 25]]\n"
          ]
        }
      ]
    },
    {
      "cell_type": "code",
      "source": [
        "#checking the shape of a:\n",
        "s.shape\n",
        "print(s.shape)"
      ],
      "metadata": {
        "colab": {
          "base_uri": "https://localhost:8080/"
        },
        "id": "PdGnvBHWJ1G6",
        "outputId": "016c7188-7cd5-4932-8fb4-96c2f6d6af41"
      },
      "execution_count": 59,
      "outputs": [
        {
          "output_type": "stream",
          "name": "stdout",
          "text": [
            "(5, 6)\n"
          ]
        }
      ]
    },
    {
      "cell_type": "code",
      "source": [
        "#checking the number of dimensions in a given array:\n",
        "print(s.ndim)"
      ],
      "metadata": {
        "colab": {
          "base_uri": "https://localhost:8080/"
        },
        "id": "kDtu77NNKGqF",
        "outputId": "0aa46119-c4aa-4066-b7e6-8c89c95e6cf8"
      },
      "execution_count": 60,
      "outputs": [
        {
          "output_type": "stream",
          "name": "stdout",
          "text": [
            "2\n"
          ]
        }
      ]
    },
    {
      "cell_type": "code",
      "source": [
        "print(s.dtype)"
      ],
      "metadata": {
        "colab": {
          "base_uri": "https://localhost:8080/"
        },
        "id": "PxAsR7jMKO8L",
        "outputId": "fb677898-0300-4980-b0eb-416b092e4d3a"
      },
      "execution_count": 62,
      "outputs": [
        {
          "output_type": "stream",
          "name": "stdout",
          "text": [
            "int64\n"
          ]
        }
      ]
    },
    {
      "cell_type": "markdown",
      "source": [
        "*Mathematical Opeartions in NumPy array:*"
      ],
      "metadata": {
        "id": "5HH9690DKa2A"
      }
    },
    {
      "cell_type": "code",
      "source": [
        "a = np.random.randint(15,25,(5,5))\n",
        "b = np.random.randint(29,33,(5,5))\n",
        "print(a)\n",
        "print(b)"
      ],
      "metadata": {
        "colab": {
          "base_uri": "https://localhost:8080/"
        },
        "id": "jn4LVOVOKi9c",
        "outputId": "533ae411-c2e5-4847-9009-8140ac4ff3b3"
      },
      "execution_count": 65,
      "outputs": [
        {
          "output_type": "stream",
          "name": "stdout",
          "text": [
            "[[19 21 16 15 22]\n",
            " [17 16 23 17 19]\n",
            " [16 16 17 16 16]\n",
            " [22 15 24 17 20]\n",
            " [20 17 23 19 22]]\n",
            "[[29 32 30 31 32]\n",
            " [29 31 32 32 30]\n",
            " [30 31 29 29 29]\n",
            " [29 29 32 32 30]\n",
            " [31 29 32 30 32]]\n"
          ]
        }
      ]
    },
    {
      "cell_type": "code",
      "source": [
        "print(a+b)"
      ],
      "metadata": {
        "colab": {
          "base_uri": "https://localhost:8080/"
        },
        "id": "z1zUn1oqKu9x",
        "outputId": "c74b02de-65c8-40bf-f5c2-ebc76d8e3787"
      },
      "execution_count": 66,
      "outputs": [
        {
          "output_type": "stream",
          "name": "stdout",
          "text": [
            "[[48 53 46 46 54]\n",
            " [46 47 55 49 49]\n",
            " [46 47 46 45 45]\n",
            " [51 44 56 49 50]\n",
            " [51 46 55 49 54]]\n"
          ]
        }
      ]
    },
    {
      "cell_type": "code",
      "source": [
        "print(a-b)"
      ],
      "metadata": {
        "colab": {
          "base_uri": "https://localhost:8080/"
        },
        "id": "0HFidK_nK5a-",
        "outputId": "828d0ee0-1536-46e2-888c-582f8bbed31d"
      },
      "execution_count": 67,
      "outputs": [
        {
          "output_type": "stream",
          "name": "stdout",
          "text": [
            "[[-10 -11 -14 -16 -10]\n",
            " [-12 -15  -9 -15 -11]\n",
            " [-14 -15 -12 -13 -13]\n",
            " [ -7 -14  -8 -15 -10]\n",
            " [-11 -12  -9 -11 -10]]\n"
          ]
        }
      ]
    },
    {
      "cell_type": "code",
      "source": [
        "print(a*b)"
      ],
      "metadata": {
        "colab": {
          "base_uri": "https://localhost:8080/"
        },
        "id": "L27YscLsK8XS",
        "outputId": "3b9328c1-f105-4b23-ccc3-c6eff2edf971"
      },
      "execution_count": 68,
      "outputs": [
        {
          "output_type": "stream",
          "name": "stdout",
          "text": [
            "[[551 672 480 465 704]\n",
            " [493 496 736 544 570]\n",
            " [480 496 493 464 464]\n",
            " [638 435 768 544 600]\n",
            " [620 493 736 570 704]]\n"
          ]
        }
      ]
    },
    {
      "cell_type": "code",
      "source": [
        "print(a/b)"
      ],
      "metadata": {
        "colab": {
          "base_uri": "https://localhost:8080/"
        },
        "id": "vrG4zaHNLBWo",
        "outputId": "de040479-2a5d-4547-8a5a-476bb8ae0135"
      },
      "execution_count": 69,
      "outputs": [
        {
          "output_type": "stream",
          "name": "stdout",
          "text": [
            "[[0.65517241 0.65625    0.53333333 0.48387097 0.6875    ]\n",
            " [0.5862069  0.51612903 0.71875    0.53125    0.63333333]\n",
            " [0.53333333 0.51612903 0.5862069  0.55172414 0.55172414]\n",
            " [0.75862069 0.51724138 0.75       0.53125    0.66666667]\n",
            " [0.64516129 0.5862069  0.71875    0.63333333 0.6875    ]]\n"
          ]
        }
      ]
    },
    {
      "cell_type": "code",
      "source": [
        "c = np.random.randint(5,6,(4,6))\n",
        "d = np.random.randint(10,15,(4,6))\n",
        "print(c)\n",
        "print(d)"
      ],
      "metadata": {
        "colab": {
          "base_uri": "https://localhost:8080/"
        },
        "id": "Mk69KykELEHI",
        "outputId": "c012eb21-2d16-4926-9b69-68062ef354da"
      },
      "execution_count": 78,
      "outputs": [
        {
          "output_type": "stream",
          "name": "stdout",
          "text": [
            "[[5 5 5 5 5 5]\n",
            " [5 5 5 5 5 5]\n",
            " [5 5 5 5 5 5]\n",
            " [5 5 5 5 5 5]]\n",
            "[[14 13 11 14 12 12]\n",
            " [13 12 13 10 11 13]\n",
            " [14 10 12 11 13 14]\n",
            " [14 13 12 13 14 12]]\n"
          ]
        }
      ]
    },
    {
      "cell_type": "code",
      "source": [
        "print(np.add(c,d))"
      ],
      "metadata": {
        "colab": {
          "base_uri": "https://localhost:8080/"
        },
        "id": "CCfqDwSTLX7q",
        "outputId": "6f359d04-2c47-416b-85f6-612b4f5ede18"
      },
      "execution_count": 79,
      "outputs": [
        {
          "output_type": "stream",
          "name": "stdout",
          "text": [
            "[[19 18 16 19 17 17]\n",
            " [18 17 18 15 16 18]\n",
            " [19 15 17 16 18 19]\n",
            " [19 18 17 18 19 17]]\n"
          ]
        }
      ]
    },
    {
      "cell_type": "code",
      "source": [
        "print(np.subtract(c,d))"
      ],
      "metadata": {
        "colab": {
          "base_uri": "https://localhost:8080/"
        },
        "id": "RBICX5PzMBFk",
        "outputId": "3145967b-ce7a-4da1-f10f-a086dc73250b"
      },
      "execution_count": 80,
      "outputs": [
        {
          "output_type": "stream",
          "name": "stdout",
          "text": [
            "[[-9 -8 -6 -9 -7 -7]\n",
            " [-8 -7 -8 -5 -6 -8]\n",
            " [-9 -5 -7 -6 -8 -9]\n",
            " [-9 -8 -7 -8 -9 -7]]\n"
          ]
        }
      ]
    },
    {
      "cell_type": "code",
      "source": [
        "print(np.multiply(c,d))"
      ],
      "metadata": {
        "colab": {
          "base_uri": "https://localhost:8080/"
        },
        "id": "caAo0KuDMHMV",
        "outputId": "12afb3f1-330b-48db-af51-30a31f964954"
      },
      "execution_count": 81,
      "outputs": [
        {
          "output_type": "stream",
          "name": "stdout",
          "text": [
            "[[70 65 55 70 60 60]\n",
            " [65 60 65 50 55 65]\n",
            " [70 50 60 55 65 70]\n",
            " [70 65 60 65 70 60]]\n"
          ]
        }
      ]
    },
    {
      "cell_type": "code",
      "source": [
        "print(np.divide(c,d))"
      ],
      "metadata": {
        "colab": {
          "base_uri": "https://localhost:8080/"
        },
        "id": "mR8gpFUSMJsu",
        "outputId": "6860f228-bcc4-4edd-c003-cb25ab22f3e0"
      },
      "execution_count": 82,
      "outputs": [
        {
          "output_type": "stream",
          "name": "stdout",
          "text": [
            "[[0.35714286 0.38461538 0.45454545 0.35714286 0.41666667 0.41666667]\n",
            " [0.38461538 0.41666667 0.38461538 0.5        0.45454545 0.38461538]\n",
            " [0.35714286 0.5        0.41666667 0.45454545 0.38461538 0.35714286]\n",
            " [0.35714286 0.38461538 0.41666667 0.38461538 0.35714286 0.41666667]]\n"
          ]
        }
      ]
    },
    {
      "cell_type": "code",
      "source": [
        "array = np.random.randint(12,28,(4,6))\n",
        "print(array)\n",
        "array.shape"
      ],
      "metadata": {
        "colab": {
          "base_uri": "https://localhost:8080/"
        },
        "id": "a9gkr5tnMWeq",
        "outputId": "52561a2a-bdf9-4654-e349-677dca375ee2"
      },
      "execution_count": 84,
      "outputs": [
        {
          "output_type": "stream",
          "name": "stdout",
          "text": [
            "[[23 25 23 27 16 19]\n",
            " [13 12 17 18 19 12]\n",
            " [21 24 27 21 12 23]\n",
            " [27 27 12 18 27 22]]\n"
          ]
        },
        {
          "output_type": "execute_result",
          "data": {
            "text/plain": [
              "(4, 6)"
            ]
          },
          "metadata": {},
          "execution_count": 84
        }
      ]
    },
    {
      "cell_type": "code",
      "source": [
        "trans = np.transpose(array)\n",
        "print(trans)\n",
        "trans.shape"
      ],
      "metadata": {
        "colab": {
          "base_uri": "https://localhost:8080/"
        },
        "id": "F6nYXuJ6MioO",
        "outputId": "5470c82c-7313-41a1-92c1-cc13a4ca8905"
      },
      "execution_count": 85,
      "outputs": [
        {
          "output_type": "stream",
          "name": "stdout",
          "text": [
            "[[23 13 21 27]\n",
            " [25 12 24 27]\n",
            " [23 17 27 12]\n",
            " [27 18 21 18]\n",
            " [16 19 12 27]\n",
            " [19 12 23 22]]\n"
          ]
        },
        {
          "output_type": "execute_result",
          "data": {
            "text/plain": [
              "(6, 4)"
            ]
          },
          "metadata": {},
          "execution_count": 85
        }
      ]
    },
    {
      "cell_type": "code",
      "source": [
        "array1 = np.random.randint(25,30,(6,7))\n",
        "print(array1)"
      ],
      "metadata": {
        "colab": {
          "base_uri": "https://localhost:8080/"
        },
        "id": "dEnqymv_Mudo",
        "outputId": "83e36458-93cd-4d83-9c3c-e9c8203cd729"
      },
      "execution_count": 91,
      "outputs": [
        {
          "output_type": "stream",
          "name": "stdout",
          "text": [
            "[[26 26 28 29 29 29 28]\n",
            " [29 29 25 25 29 25 25]\n",
            " [29 26 29 26 28 27 29]\n",
            " [27 28 27 25 26 26 27]\n",
            " [29 26 26 27 25 29 25]\n",
            " [25 26 27 25 26 26 27]]\n"
          ]
        }
      ]
    },
    {
      "cell_type": "code",
      "source": [
        "array2 = array1.reshape(7,6)\n",
        "print(array2)"
      ],
      "metadata": {
        "colab": {
          "base_uri": "https://localhost:8080/"
        },
        "id": "P5gVW063NW4l",
        "outputId": "955bef89-f1d9-4655-c28f-4c6d893cd52f"
      },
      "execution_count": 92,
      "outputs": [
        {
          "output_type": "stream",
          "name": "stdout",
          "text": [
            "[[26 26 28 29 29 29]\n",
            " [28 29 29 25 25 29]\n",
            " [25 25 29 26 29 26]\n",
            " [28 27 29 27 28 27]\n",
            " [25 26 26 27 29 26]\n",
            " [26 27 25 29 25 25]\n",
            " [26 27 25 26 26 27]]\n"
          ]
        }
      ]
    }
  ]
}